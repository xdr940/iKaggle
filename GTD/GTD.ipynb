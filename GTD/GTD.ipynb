{
 "cells": [
  {
   "cell_type": "code",
   "execution_count": 4,
   "metadata": {},
   "outputs": [
    {
     "name": "stdout",
     "output_type": "stream",
     "text": [
      "Index(['eventid', 'iyear', 'imonth', 'iday', 'approxdate', 'extended',\n",
      "       'resolution', 'country', 'country_txt', 'region',\n",
      "       ...\n",
      "       'addnotes', 'scite1', 'scite2', 'scite3', 'dbsource', 'INT_LOG',\n",
      "       'INT_IDEO', 'INT_MISC', 'INT_ANY', 'related'],\n",
      "      dtype='object', length=135)\n"
     ]
    }
   ],
   "source": [
    "\n",
    "import pandas as pd\n",
    "import pandas_profiling\n",
    "from path import Path\n",
    "root = Path('/home/roit/datasets/kaggle/GTD')\n",
    "\n",
    "df_train = pd.read_csv(root/\"gtd.csv\")\n",
    "\n",
    "#df_train.profile_report(title = 'gtd')\n",
    "\n",
    "print(df_train.columns)\n",
    "import seaborn as sns"
   ]
  },
  {
   "cell_type": "code",
   "execution_count": null,
   "metadata": {},
   "outputs": [],
   "source": [
    "print(df_train['gname'].describe())\n",
    "df_train[['eventid','gname']].profile_report(title = 'gname')\n"
   ]
  },
  {
   "cell_type": "markdown",
   "metadata": {},
   "source": [
    "# 统计分类变量(string)"
   ]
  },
  {
   "cell_type": "code",
   "execution_count": 44,
   "metadata": {},
   "outputs": [],
   "source": [
    "import matplotlib.pyplot as plt\n",
    "from pandas import DataFrame\n",
    "def strings_cnt(series):\n",
    "    '''\n",
    "        统计categoric variables (string)\n",
    "    :param series:pandas.Series\n",
    "    :return: pandas.DataFrame\n",
    "    '''\n",
    "    dic = {}\n",
    "    total = len(series)\n",
    "    for i in range(total):\n",
    "        try:\n",
    "            dic[series[i]] += 1\n",
    "\n",
    "        except:\n",
    "            dic[series[i]] = 1\n",
    "\n",
    "    lis = sorted(dic.items(), key=lambda dic: dic[1], reverse=True)\n",
    "\n",
    "\n",
    "    names = [it[0] for it in lis]\n",
    "    cnt = [it[1] for it in lis]\n",
    "    percent = [100*it[1] / total for it in lis]\n",
    "\n",
    "    dic = {'names':names, 'cnt':cnt,'percent':percent}\n",
    "\n",
    "    ret_df = DataFrame(dic)\n",
    "    return ret_df\n",
    "\n",
    "\n",
    "\n",
    "\n",
    "gname_sta = strings_cnt(df_train['gname'])\n",
    "\n",
    "\n"
   ]
  },
  {
   "cell_type": "code",
   "execution_count": 50,
   "metadata": {},
   "outputs": [],
   "source": [
    "cols_murder_info = ['eventid',\n",
    "                    'gname','gsubname',\n",
    "                    'gname2','gsubname2',\n",
    "                    'gname3','gsubname3',\n",
    "                    'guncertain1','guncertain2','guncertain3']\n",
    "\n",
    "df_train[cols_murder_info][:200].to_csv('murder.csv')"
   ]
  },
  {
   "cell_type": "code",
   "execution_count": 46,
   "metadata": {},
   "outputs": [],
   "source": []
  }
 ],
 "metadata": {
  "kernelspec": {
   "display_name": "Python 3",
   "language": "python",
   "name": "python3"
  },
  "language_info": {
   "codemirror_mode": {
    "name": "ipython",
    "version": 3
   },
   "file_extension": ".py",
   "mimetype": "text/x-python",
   "name": "python",
   "nbconvert_exporter": "python",
   "pygments_lexer": "ipython3",
   "version": "3.6.8"
  }
 },
 "nbformat": 4,
 "nbformat_minor": 2
}
