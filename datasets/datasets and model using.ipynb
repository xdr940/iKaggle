{
 "cells": [
  {
   "cell_type": "markdown",
   "metadata": {},
   "source": [
    "# datasets and model using"
   ]
  },
  {
   "cell_type": "code",
   "execution_count": 1,
   "metadata": {},
   "outputs": [],
   "source": [
    "import pandas as pd\n",
    "import pandas_profiling\n",
    "from sklearn.preprocessing import OneHotEncoder\n",
    "import numpy as np\n",
    "\n",
    "# 这几个数据集有点问题, 有的没有target_names, 有的target_names 是ndarr有的却是list, "
   ]
  },
  {
   "cell_type": "markdown",
   "metadata": {},
   "source": [
    "## iris "
   ]
  },
  {
   "cell_type": "code",
   "execution_count": 11,
   "metadata": {},
   "outputs": [],
   "source": [
    "\n",
    "from sklearn.datasets import load_iris\n",
    "iris = load_iris()\n",
    "df_iris = pd.DataFrame(iris.data, columns=['sepal length', 'sepal width', 'petal length','petal width'])\n",
    "pr_iris = df_iris.profile_report(title='iris Profiling Report')\n",
    "pr_iris.to_file(output_file=\"pr_iris.html\")\n",
    "\n",
    "\n",
    "#iris_dat.feature_names=<class 'list'>: ['sepal length (cm)', 'sepal width (cm)', 'petal length (cm)', 'petal width (cm)']\n",
    "#iris_dat.target_names ={ndarr}['setosa' 'versicolor' 'virginica']#对应 0 1 2 \n",
    "#iris_dat.data.shape = {tuple}(150,4)\n",
    "#iris_dat.target.shape = {tuple}(150,)"
   ]
  },
  {
   "cell_type": "code",
   "execution_count": null,
   "metadata": {},
   "outputs": [],
   "source": []
  },
  {
   "cell_type": "code",
   "execution_count": 12,
   "metadata": {},
   "outputs": [
    {
     "ename": "NameError",
     "evalue": "name 'iris_dat' is not defined",
     "output_type": "error",
     "traceback": [
      "\u001b[1;31m---------------------------------------------------------------------------\u001b[0m",
      "\u001b[1;31mNameError\u001b[0m                                 Traceback (most recent call last)",
      "\u001b[1;32m<ipython-input-12-2fd1ef00afc0>\u001b[0m in \u001b[0;36m<module>\u001b[1;34m\u001b[0m\n\u001b[1;32m----> 1\u001b[1;33m \u001b[0miris_dat\u001b[0m\u001b[1;33m.\u001b[0m\u001b[0mtarget\u001b[0m\u001b[1;33m\u001b[0m\u001b[1;33m\u001b[0m\u001b[0m\n\u001b[0m",
      "\u001b[1;31mNameError\u001b[0m: name 'iris_dat' is not defined"
     ]
    }
   ],
   "source": []
  },
  {
   "cell_type": "markdown",
   "metadata": {},
   "source": [
    "## diabetes"
   ]
  },
  {
   "cell_type": "code",
   "execution_count": null,
   "metadata": {},
   "outputs": [],
   "source": [
    "#dat_diabetes.data.shape = {tuple}(442,10)\n",
    "#dat_diabetes.target.shape = {tuple}(442,)\n",
    "\n",
    "#dat_diabetes.feature_names = <class 'list'>: ['age', 'sex', 'bmi', 'bp', 's1', 's2', 's3', 's4', 's5', 's6']\n",
    "#dat_diabetes.target_names = XX\n",
    "\n",
    "\n",
    "\n",
    "from sklearn.datasets import load_diabetes\n",
    "dat_diabetes = load_diabetes()\n",
    "print(dat_diabetes.DESCR)\n",
    "df_diabetes = pd.DataFrame(dat_diabetes.data, columns=dat_diabetes.feature_names)\n",
    "\n",
    "pr_diabetes = df_diabetes.profile_report(title='diabetes Profiling Report')\n",
    "pr_diabetes.to_file(output_file=\"pr_diabetes.html\")"
   ]
  },
  {
   "cell_type": "code",
   "execution_count": 91,
   "metadata": {},
   "outputs": [
    {
     "data": {
      "text/plain": [
       "(442, 10)"
      ]
     },
     "execution_count": 91,
     "metadata": {},
     "output_type": "execute_result"
    }
   ],
   "source": [
    "#print(dat_diabetes.target_names)\n",
    "#print(dat_diabetes.feature_names)\n",
    "dat_diabetes.data.shape"
   ]
  },
  {
   "cell_type": "markdown",
   "metadata": {},
   "source": [
    "\n",
    "## breast_cancer"
   ]
  },
  {
   "cell_type": "code",
   "execution_count": 42,
   "metadata": {},
   "outputs": [],
   "source": [
    "from sklearn.datasets import load_breast_cancer\n",
    "dat_bc = load_breast_cancer()\n",
    "\n",
    "feature_names = ['mean radius','mean texture','mean perimeter','mean area','mean smoothness','mean compactness','mean concavity', 'mean concave points' ,'mean symmetry' ,'mean fractal dimension' ,'radius error', 'texture error', 'perimeter error', 'area error', 'smoothness error', 'compactness error', 'concavity error', 'concave points error', 'symmetry error', 'fractal dimension error', 'worst radius', 'worst texture', 'worst perimeter' ,'worst area' ,'worst smoothness' ,'worst compactness' ,'worst concavity' ,'worst concave points' ,'worst symmetry' ,'worst fractal dimension']\n",
    "target_names = ['malignant/benign']\n",
    "\n",
    "df_bc = pd.DataFrame(np.concatenate([dat_bc.data,np.expand_dims(dat_bc.target,axis=1)],axis = 1), columns=feature_names+target_names)\n",
    "\n",
    "pr_bc = df_bc.profile_report(title='breast_cancer Profiling Report')\n",
    "pr_bc.to_file(output_file=\"breast_cancer.html\")\n",
    "\n",
    "\n",
    "#bc_dat.data.shape = {tuple}(569,30)\n",
    "#bc_dat.target.shape = {tuple}(569,)\n",
    "#bc_dat.feature_names = {ndarr}['mean radius' 'mean texture' 'mean perimeter' 'mean area' 'mean smoothness' 'mean compactness' 'mean concavity' 'mean concave points' 'mean symmetry' 'mean fractal dimension' 'radius error' 'texture error' 'perimeter error' 'area error' 'smoothness error' 'compactness error' 'concavity error' 'concave points error' 'symmetry error' 'fractal dimension error' 'worst radius' 'worst texture' 'worst perimeter' 'worst area' 'worst smoothness' 'worst compactness' 'worst concavity' 'worst concave points' 'worst symmetry' 'worst fractal dimension']\n",
    "#bc_dat.target_names = {ndarr}['malignant' 'benign']#恶性的 良性的\n",
    "\n",
    "#大部分都是数值变量"
   ]
  },
  {
   "cell_type": "markdown",
   "metadata": {},
   "source": [
    "## wine"
   ]
  },
  {
   "cell_type": "code",
   "execution_count": 49,
   "metadata": {},
   "outputs": [],
   "source": [
    "from sklearn.datasets import load_wine\n",
    "dat_wine = load_wine()\n",
    "\n",
    "\n",
    "\n",
    "feature_names = ['alcohol', 'malic_acid', 'ash', 'alcalinity_of_ash', 'magnesium', 'total_phenols', 'flavanoids', 'nonflavanoid_phenols', 'proanthocyanins', 'color_intensity', 'hue', 'od280/od315_of_diluted_wines', 'proline']\n",
    "target_names = ['class_X']\n",
    "\n",
    "df_wine = pd.DataFrame(np.concatenate([dat_wine.data,np.expand_dims(dat_wine.target,axis=1)],axis = 1), columns=feature_names+target_names)\n",
    "\n",
    "\n",
    "pr_wine = df_wine.profile_report(title='wine Profiling Report')\n",
    "pr_wine.to_file(output_file=\"wine.html\")\n",
    "\n",
    "#dat_wine.feature_names = <class 'list'>: ['alcohol', 'malic_acid', 'ash', 'alcalinity_of_ash', 'magnesium', 'total_phenols', 'flavanoids', 'nonflavanoid_phenols', 'proanthocyanins', 'color_intensity', 'hue', 'od280/od315_of_diluted_wines', 'proline']\n",
    "#dat_wine.target_names={ndarr}[class_0, class_1, class_2]\n",
    "#dat_wine.data.shape = (178,13)\n",
    "#dat_wine.target = (178,)"
   ]
  },
  {
   "cell_type": "code",
   "execution_count": null,
   "metadata": {},
   "outputs": [],
   "source": []
  }
 ],
 "metadata": {
  "kernelspec": {
   "display_name": "Python 3",
   "language": "python",
   "name": "python3"
  },
  "language_info": {
   "codemirror_mode": {
    "name": "ipython",
    "version": 3
   },
   "file_extension": ".py",
   "mimetype": "text/x-python",
   "name": "python",
   "nbconvert_exporter": "python",
   "pygments_lexer": "ipython3",
   "version": "3.6.7"
  }
 },
 "nbformat": 4,
 "nbformat_minor": 2
}
