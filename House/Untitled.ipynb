{
 "cells": [
  {
   "cell_type": "code",
   "execution_count": 4,
   "metadata": {},
   "outputs": [],
   "source": [
    "#invite people for the Kaggle party\n",
    "import pandas as pd\n",
    "import matplotlib.pyplot as plt\n",
    "import seaborn as sns\n",
    "import numpy as np\n",
    "from scipy.stats import norm\n",
    "from sklearn.ensemble import RandomForestRegressor\n",
    "from sklearn.model_selection import train_test_split"
   ]
  },
  {
   "cell_type": "code",
   "execution_count": 5,
   "metadata": {},
   "outputs": [
    {
     "name": "stdout",
     "output_type": "stream",
     "text": [
      " cost:-261.80675142840715\n"
     ]
    }
   ],
   "source": [
    "df_train = pd.read_csv('./data/train.csv')\n",
    "df_test = pd.read_csv('./data/test.csv')\n",
    "\n",
    "cols = ['OverallQual','GrLivArea', 'GarageCars','TotalBsmtSF', 'FullBath', 'TotRmsAbvGrd', 'YearBuilt']\n",
    "x = df_train[cols].values\n",
    "y = df_train['SalePrice'].values\n",
    "X_train,X_test, y_train, y_test = train_test_split(x, y, test_size=0.33, random_state=42)\n",
    "\n",
    "model = RandomForestRegressor(n_estimators=400)\n",
    "model.fit(X_train, y_train)\n",
    "y_pred = model.predict(X_test)\n",
    "\n",
    "print( \" cost:\" + str(np.sum(y_pred-y_test)/len(y_pred)) )\n",
    "\n"
   ]
  },
  {
   "cell_type": "code",
   "execution_count": 7,
   "metadata": {},
   "outputs": [],
   "source": [
    "#补上缺失值\n",
    "for column in list(df_test[cols].columns[df_test[cols].isnull().sum() > 0]):\n",
    "    meanval = df_test[column].mean()\n",
    "    df_test[column].fillna(meanval, inplace=True)"
   ]
  },
  {
   "cell_type": "code",
   "execution_count": 8,
   "metadata": {},
   "outputs": [],
   "source": [
    "x = df_test[cols].values\n",
    "y_test_pred = model.predict(x)\n",
    "\n",
    "prediction = pd.DataFrame(y_test_pred, columns=['SalePrice'])\n",
    "\n",
    "#prediction = prediction*df_train['SalePrice'].std() +df_train['SalePrice'].mean()\n",
    "\n",
    "\n",
    "result = pd.concat([ df_test['Id'], prediction], axis=1)\n",
    "# result = result.drop(resultlt.columns[0], 1)\n",
    "result.columns\n",
    "\n",
    "result.to_csv('./data/Predictions2.csv', index=False)"
   ]
  },
  {
   "cell_type": "code",
   "execution_count": null,
   "metadata": {},
   "outputs": [],
   "source": []
  }
 ],
 "metadata": {
  "kernelspec": {
   "display_name": "Python 3",
   "language": "python",
   "name": "python3"
  },
  "language_info": {
   "codemirror_mode": {
    "name": "ipython",
    "version": 3
   },
   "file_extension": ".py",
   "mimetype": "text/x-python",
   "name": "python",
   "nbconvert_exporter": "python",
   "pygments_lexer": "ipython3",
   "version": "3.6.8"
  }
 },
 "nbformat": 4,
 "nbformat_minor": 2
}
