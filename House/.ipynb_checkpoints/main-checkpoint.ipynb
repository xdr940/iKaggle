{
 "cells": [
  {
   "cell_type": "code",
   "execution_count": 9,
   "metadata": {},
   "outputs": [],
   "source": [
    "#invite people for the Kaggle party\n",
    "import pandas as pd\n",
    "import matplotlib.pyplot as plt\n",
    "import seaborn as sns\n",
    "import numpy as np\n",
    "from scipy.stats import norm\n",
    "\n",
    "from scipy import stats\n",
    "import warnings\n",
    "warnings.filterwarnings('ignore')\n",
    "#%matplotlib inline\n",
    "from sklearn.preprocessing import StandardScaler\n",
    "from sklearn import preprocessing\n",
    "from sklearn import linear_model, svm, gaussian_process\n",
    "from sklearn.ensemble import RandomForestRegressor\n",
    "from sklearn.model_selection import train_test_split\n",
    "import numpy as np\n",
    "\n",
    "\n"
   ]
  },
  {
   "cell_type": "markdown",
   "metadata": {},
   "source": [
    "# train"
   ]
  },
  {
   "cell_type": "code",
   "execution_count": 11,
   "metadata": {},
   "outputs": [],
   "source": [
    "df_train = pd.read_csv('./data/train.csv')\n",
    "cols = ['OverallQual','GrLivArea', 'GarageCars','TotalBsmtSF', 'FullBath', 'TotRmsAbvGrd', 'YearBuilt']#之前分析得到的\n",
    "\n",
    "x = df_train[cols].values\n",
    "y = df_train['SalePrice'].values\n",
    "x_scaled = preprocessing.StandardScaler().fit_transform(x)\n",
    "y_scaled = preprocessing.StandardScaler().fit_transform(y.reshape(-1,1))\n",
    "X_train,X_test, y_train, y_test = train_test_split(x_scaled, y_scaled, test_size=0.33, random_state=42)"
   ]
  },
  {
   "cell_type": "code",
   "execution_count": 27,
   "metadata": {},
   "outputs": [
    {
     "name": "stdout",
     "output_type": "stream",
     "text": [
      "svm cost:-17.967306347608577\n",
      "RandomForestRegressor cost:-2.240141583081292\n",
      "BayesianRidge cost:-17.191504692911504\n"
     ]
    }
   ],
   "source": [
    "\n",
    "#三个模型\n",
    "clfs = {\n",
    "        'svm':svm.SVR(), \n",
    "        'RandomForestRegressor':RandomForestRegressor(n_estimators=400),\n",
    "        'BayesianRidge':linear_model.BayesianRidge()\n",
    "       }\n",
    "y_pred = {'svm':None,\n",
    "         'RandomForestRegressor':None,\n",
    "         'BayesianRidge':None}\n",
    "for clf in clfs:\n",
    "    try:\n",
    "        clfs[clf].fit(X_train, y_train)\n",
    "        y_pred[clf] = clfs[clf].predict(X_test)\n",
    "        print(clf + \" cost:\" + str(np.sum(y_pred[clf]-y_test)/len(y_pred[clf])) )\n",
    "    except Exception as e:\n",
    "        print(clf + \" Error:\")\n",
    "        print(str(e))"
   ]
  },
  {
   "cell_type": "markdown",
   "metadata": {},
   "source": [
    "# run inference"
   ]
  },
  {
   "cell_type": "code",
   "execution_count": 36,
   "metadata": {},
   "outputs": [
    {
     "data": {
      "text/plain": [
       "OverallQual     0\n",
       "GrLivArea       0\n",
       "GarageCars      1\n",
       "TotalBsmtSF     1\n",
       "FullBath        0\n",
       "TotRmsAbvGrd    0\n",
       "YearBuilt       0\n",
       "dtype: int64"
      ]
     },
     "execution_count": 36,
     "metadata": {},
     "output_type": "execute_result"
    }
   ],
   "source": [
    "df_test = pd.read_csv(\"./data/test.csv\")\n",
    "df_test[cols].isnull().sum()#查看空值个数"
   ]
  },
  {
   "cell_type": "code",
   "execution_count": 32,
   "metadata": {},
   "outputs": [
    {
     "data": {
      "text/plain": [
       "array([-0.5716385 ,  1.75717004, -0.80432852, -0.13011079,  1.45179173,\n",
       "       -1.15837598,  0.16054177, -0.22854211, -1.16279596, -0.67674514])"
      ]
     },
     "execution_count": 32,
     "metadata": {},
     "output_type": "execute_result"
    }
   ],
   "source": [
    "y_pred['svm'][:10]"
   ]
  },
  {
   "cell_type": "code",
   "execution_count": 34,
   "metadata": {},
   "outputs": [
    {
     "data": {
      "text/plain": [
       "array([208500, 181500, 223500, 140000, 250000, 143000, 307000, 200000,\n",
       "       129900, 118000], dtype=int64)"
      ]
     },
     "execution_count": 34,
     "metadata": {},
     "output_type": "execute_result"
    }
   ],
   "source": [
    " df_train['SalePrice'].values[:10]"
   ]
  }
 ],
 "metadata": {
  "kernelspec": {
   "display_name": "Python 3",
   "language": "python",
   "name": "python3"
  },
  "language_info": {
   "codemirror_mode": {
    "name": "ipython",
    "version": 3
   },
   "file_extension": ".py",
   "mimetype": "text/x-python",
   "name": "python",
   "nbconvert_exporter": "python",
   "pygments_lexer": "ipython3",
   "version": "3.6.7"
  }
 },
 "nbformat": 4,
 "nbformat_minor": 2
}
